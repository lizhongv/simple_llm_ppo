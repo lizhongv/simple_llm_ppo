{
 "cells": [
  {
   "cell_type": "code",
   "execution_count": 23,
   "id": "7cdb3b0f",
   "metadata": {},
   "outputs": [
    {
     "data": {
      "text/plain": [
       "['S__:2997=11989198919891988E',\n",
       " 'S__:7774=叁壹零玖玖壹零玖玖壹零玖玖壹零玖陆E',\n",
       " 'S__:4100=qyrpqyrpqyrpqyrppE',\n",
       " 'S__:1450=5800580058005800EP',\n",
       " 'S__:4657=qiywoiywoiywoiywiE',\n",
       " 'S__:1655=6620662066206620EP',\n",
       " 'S__:9545=三八一八三八一八三八一八三八一八〇E',\n",
       " 'S__:5506=二二〇二六二〇二六二〇二六二〇二四E']"
      ]
     },
     "execution_count": 23,
     "metadata": {},
     "output_type": "execute_result"
    }
   ],
   "source": [
    "%run common.ipynb\n",
    "[tokenizer.decode(i) for i in tokenizer.get_batch_data(prefix=False, batch_size=8)[1]][:10]"
   ]
  },
  {
   "cell_type": "code",
   "execution_count": 9,
   "id": "5e45b488",
   "metadata": {
    "scrolled": true
   },
   "outputs": [],
   "source": [
    "model_gen = ModelGEN()"
   ]
  },
  {
   "cell_type": "code",
   "execution_count": 10,
   "id": "79ffc293",
   "metadata": {},
   "outputs": [
    {
     "data": {
      "text/plain": [
       "(torch.Size([8, 27]), torch.Size([8, 27]))"
      ]
     },
     "execution_count": 10,
     "metadata": {},
     "output_type": "execute_result"
    }
   ],
   "source": [
    "# _, input_ids, attention_mask = tokenizer.get_batch_data(prefix=False, batch_size=8)\n",
    "# input_ids = torch.LongTensor(input_ids).to(device)\n",
    "# attention_mask = torch.LongTensor(attention_mask).to(device)\n",
    "# input_ids.shape, attention_mask.shape"
   ]
  },
  {
   "cell_type": "code",
   "execution_count": 12,
   "id": "c4eb082d",
   "metadata": {},
   "outputs": [
    {
     "data": {
      "text/plain": [
       "torch.Size([8, 27, 53])"
      ]
     },
     "execution_count": 12,
     "metadata": {},
     "output_type": "execute_result"
    }
   ],
   "source": [
    "# logits = model_gen(input_ids=input_ids, attention_mask=attention_mask)\n",
    "# logits.shape"
   ]
  },
  {
   "cell_type": "code",
   "execution_count": 21,
   "id": "5d5a4e96",
   "metadata": {},
   "outputs": [
    {
     "data": {
      "text/plain": [
       "torch.Size([208, 53])"
      ]
     },
     "execution_count": 21,
     "metadata": {},
     "output_type": "execute_result"
    }
   ],
   "source": [
    "# logits[:,:-1].flatten(end_dim=1).size()"
   ]
  },
  {
   "cell_type": "code",
   "execution_count": 22,
   "id": "fbf00a68",
   "metadata": {
    "scrolled": false
   },
   "outputs": [
    {
     "name": "stdout",
     "output_type": "stream",
     "text": [
      "0\n",
      "S__:3054=数p叁e柒wo玖一八ty四7六肆7EPPPPPPP\n",
      "S__:2595=r6零i肆1三一e4叁1数数q三p8〇一小写九六y\n",
      "1000\n",
      "S__:3506=一四〇八七四〇八七四〇八七四〇八四E\n",
      "S__:5070=w920_9203920二q200E\n",
      "2000\n",
      "S__:6823=贰柒贰玖肆柒贰玖肆柒贰玖肆柒贰玖贰E\n",
      "S__:8286=eeqr柒eqrreqryeqrrE\n",
      "3000\n",
      "S__:9164=叁陆陆伍玖陆陆伍玖陆陆伍玖陆陆伍陆E\n",
      "S__:4282=壹柒壹贰玖柒壹贰玖柒壹贰玖柒壹贰捌E\n",
      "4000\n",
      "S__:5496=二一九八六一九八六一九八六一九八四E\n",
      "S__:3171=12685268526852684E\n",
      "5000\n",
      "S__:9028=三六一一五六一一五六一一五六一一二E\n",
      "S__:7328=二九三一四九三一四九三一四九三一二E\n",
      "6000\n",
      "S__:6839=贰柒叁伍捌柒叁伍捌柒叁伍捌柒叁伍陆E\n",
      "S__:2701=10805080508050804E\n",
      "7000\n",
      "S__:1254=5016501650165016EP\n",
      "S__:6830=wuewwuewwuewwuewpE\n",
      "8000\n",
      "S__:2820=壹壹贰捌壹壹贰捌壹壹贰捌壹壹贰捌零E\n",
      "S__:4141=一六五六五六四六五六五六五六五六四E\n",
      "9000\n",
      "S__:4544=壹玖叁柒柒玖叁柒柒玖叁柒柒玖叁柒陆E\n",
      "S__:2937=qquroquroquroquriE\n",
      "10000\n",
      "S__:5014=贰零零伍捌零零伍捌零零伍捌零零伍陆E\n",
      "S__:6658=二六六三四六六三四六六三四六六三二E\n",
      "11000\n",
      "S__:6602=wyrqpyrqpyrqpyrpiE\n",
      "S__:8012=叁贰零伍壹贰零伍壹贰零伍壹贰零肆捌E\n",
      "12000\n",
      "S__:7129=二八五一八八五一八八五一八八五一六E\n",
      "S__:9567=38271827182718268E\n",
      "13000\n",
      "S__:9338=叁柒叁伍伍柒叁伍伍柒叁伍伍柒叁伍贰E\n",
      "S__:3000=qwppqwppqwppqwpppE\n",
      "14000\n",
      "S__:9553=eiwqtiwqtiwqtiwqwE\n",
      "S__:5741=二二九六六二九六六二九六六二九六四E\n"
     ]
    }
   ],
   "source": [
    "from tqdm.notebook import tqdm\n",
    "optimizer = torch.optim.AdamW(model_gen.parameters(), lr=1e-4)\n",
    "criterion = torch.nn.CrossEntropyLoss(ignore_index=tokenizer.encoder['P'])\n",
    "\n",
    "for epoch in tqdm(range(15000), desc=\"Processing...\"):\n",
    "    _, input_ids, attention_mask = tokenizer.get_batch_data(prefix=False, batch_size=64)\n",
    "    input_ids = torch.LongTensor(input_ids).to(device)\n",
    "    attention_mask = torch.LongTensor(attention_mask).to(device)\n",
    "\n",
    "    logits = model_gen(input_ids=input_ids, attention_mask=attention_mask)\n",
    "\n",
    "    loss = criterion(logits[:, :-1].flatten(end_dim=1),\n",
    "                     input_ids[:, 1:].flatten())\n",
    "\n",
    "    loss.backward()\n",
    "    optimizer.step()\n",
    "    optimizer.zero_grad()\n",
    "\n",
    "    if epoch % 1000 == 0:\n",
    "        print(epoch)\n",
    "        for i in generate(model_gen, input_ids[:2, :9]):\n",
    "            print(tokenizer.decode(i.tolist()))\n",
    "\n",
    "model_gen.to('cpu')\n",
    "torch.save(model_gen, 'gen.model')"
   ]
  },
  {
   "cell_type": "code",
   "execution_count": null,
   "id": "766625a5",
   "metadata": {},
   "outputs": [],
   "source": []
  }
 ],
 "metadata": {
  "kernelspec": {
   "display_name": "cu117-pt2.0",
   "language": "python",
   "name": "python3"
  },
  "language_info": {
   "codemirror_mode": {
    "name": "ipython",
    "version": 3
   },
   "file_extension": ".py",
   "mimetype": "text/x-python",
   "name": "python",
   "nbconvert_exporter": "python",
   "pygments_lexer": "ipython3",
   "version": "3.10.14"
  }
 },
 "nbformat": 4,
 "nbformat_minor": 5
}
