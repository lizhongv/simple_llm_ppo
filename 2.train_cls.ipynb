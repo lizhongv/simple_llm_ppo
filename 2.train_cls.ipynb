{
 "cells": [
  {
   "cell_type": "code",
   "execution_count": 5,
   "id": "58e4f06d",
   "metadata": {},
   "outputs": [
    {
     "data": {
      "text/plain": [
       "['S__:9434=37739773977397736E',\n",
       " 'S__:4466=一七八六五七八六五七八六五七八六四E',\n",
       " 'S__:3602=14409440944094408E',\n",
       " 'S__:7533=三〇一三五〇一三五〇一三五〇一三二E',\n",
       " 'S__:6574=wywoiywoiywoiywoyE',\n",
       " 'S__:8500=三四〇〇三四〇〇三四〇〇三四〇〇〇E',\n",
       " 'S__:1665=6660666066606660EP',\n",
       " 'S__:9414=三七六五九七六五九七六五九七六五六E']"
      ]
     },
     "execution_count": 5,
     "metadata": {},
     "output_type": "execute_result"
    }
   ],
   "source": [
    "%run common.ipynb\n",
    "[tokenizer.decode(i) for i in tokenizer.get_batch_data(prefix=False, batch_size=8)[1]][:10]"
   ]
  },
  {
   "cell_type": "code",
   "execution_count": 2,
   "id": "62aea6a1",
   "metadata": {
    "scrolled": true
   },
   "outputs": [],
   "source": [
    "model_cls = ModelCLS()"
   ]
  },
  {
   "cell_type": "code",
   "execution_count": 4,
   "id": "dbe0768c",
   "metadata": {},
   "outputs": [
    {
     "data": {
      "application/vnd.jupyter.widget-view+json": {
       "model_id": "78aaa57e10df45caa3d6addec8cbd021",
       "version_major": 2,
       "version_minor": 0
      },
      "text/plain": [
       "Processing....:   0%|          | 0/500 [00:00<?, ?it/s]"
      ]
     },
     "metadata": {},
     "output_type": "display_data"
    },
    {
     "name": "stdout",
     "output_type": "stream",
     "text": [
      "0 0.25\n",
      "S__:1919=柒陆柒陆柒陆柒陆柒陆柒陆柒陆柒陆EP 3\n",
      "S__:5414=21658165816581656E 0\n",
      "100 0.875\n",
      "S__:9734=叁捌玖叁玖捌玖叁玖捌玖叁玖捌玖叁陆E 3\n",
      "S__:6431=wtuwytuwytuwytuwrE 3\n",
      "200 1.0\n",
      "S__:1427=伍柒零捌伍柒零捌伍柒零捌伍柒零捌EP 3\n",
      "S__:5887=贰叁伍伍零叁伍伍零叁伍伍零叁伍肆捌E 3\n",
      "300 1.0\n",
      "S__:4024=qypouypouypouypoyE 1\n",
      "S__:6593=wyeuryeuryeuryeuwE 1\n",
      "400 1.0\n",
      "S__:5774=贰叁零玖捌叁零玖捌叁零玖捌叁零玖陆E 3\n",
      "S__:7867=31471147114711468E 0\n"
     ]
    }
   ],
   "source": [
    "from tqdm.notebook import tqdm\n",
    "optimizer = torch.optim.AdamW(params=model_cls.parameters(), lr=1e-4)\n",
    "criterion = torch.nn.CrossEntropyLoss()\n",
    "\n",
    "for epoch in tqdm(range(500), desc=\"Processing....\"):\n",
    "    label, input_ids, attention_mask = tokenizer.get_batch_data(prefix=False, batch_size=64)\n",
    "    label = torch.LongTensor(label).to(device)\n",
    "    input_ids = torch.LongTensor(input_ids).to(device)\n",
    "    attention_mask = torch.LongTensor(attention_mask).to(device)\n",
    "\n",
    "    logits = model_cls(input_ids=input_ids, attention_mask=attention_mask)\n",
    "\n",
    "    loss = criterion(logits, label)\n",
    "    loss.backward()\n",
    "    optimizer.step()\n",
    "    optimizer.zero_grad()\n",
    "\n",
    "    if epoch % 100 == 0:\n",
    "        logits = logits.argmax(1)\n",
    "        acc = (logits == label).sum().item() / len(label)\n",
    "        print(epoch, acc)\n",
    "\n",
    "        for i in range(2):\n",
    "            print(tokenizer.decode(input_ids[i].tolist()), logits[i].item())\n",
    "\n",
    "model_cls.to('cpu')\n",
    "torch.save(model_cls, 'cls.model')"
   ]
  },
  {
   "cell_type": "code",
   "execution_count": null,
   "id": "3840220e",
   "metadata": {},
   "outputs": [],
   "source": []
  },
  {
   "cell_type": "code",
   "execution_count": null,
   "id": "ce53d382",
   "metadata": {},
   "outputs": [],
   "source": []
  },
  {
   "cell_type": "code",
   "execution_count": null,
   "id": "e7ab7819",
   "metadata": {},
   "outputs": [],
   "source": []
  },
  {
   "cell_type": "code",
   "execution_count": null,
   "id": "d83e89a2",
   "metadata": {},
   "outputs": [],
   "source": []
  },
  {
   "cell_type": "code",
   "execution_count": null,
   "id": "6d5e5bfc",
   "metadata": {},
   "outputs": [],
   "source": []
  },
  {
   "cell_type": "code",
   "execution_count": null,
   "id": "f7a525f5",
   "metadata": {},
   "outputs": [],
   "source": []
  },
  {
   "cell_type": "code",
   "execution_count": null,
   "id": "ed1a3f07",
   "metadata": {},
   "outputs": [],
   "source": []
  },
  {
   "cell_type": "code",
   "execution_count": null,
   "id": "5ade7432",
   "metadata": {},
   "outputs": [],
   "source": []
  }
 ],
 "metadata": {
  "kernelspec": {
   "display_name": "cu117-pt2.0",
   "language": "python",
   "name": "python3"
  },
  "language_info": {
   "codemirror_mode": {
    "name": "ipython",
    "version": 3
   },
   "file_extension": ".py",
   "mimetype": "text/x-python",
   "name": "python",
   "nbconvert_exporter": "python",
   "pygments_lexer": "ipython3",
   "version": "3.10.14"
  }
 },
 "nbformat": 4,
 "nbformat_minor": 5
}
